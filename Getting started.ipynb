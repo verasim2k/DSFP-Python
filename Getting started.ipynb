{
 "cells": [
  {
   "cell_type": "markdown",
   "id": "8d5de5f8",
   "metadata": {},
   "source": [
    "# Getting started with Notebook\n",
    "thiz iss jbdjshdwnf"
   ]
  },
  {
   "cell_type": "markdown",
   "id": "cae22e21",
   "metadata": {},
   "source": [
    "## Getting started with Notebook"
   ]
  },
  {
   "cell_type": "markdown",
   "id": "74e3598c",
   "metadata": {},
   "source": [
    "### Getting started with Notebook"
   ]
  },
  {
   "cell_type": "code",
   "execution_count": null,
   "id": "4943f2c4",
   "metadata": {},
   "outputs": [],
   "source": []
  }
 ],
 "metadata": {
  "kernelspec": {
   "display_name": "Python 3 (ipykernel)",
   "language": "python",
   "name": "python3"
  },
  "language_info": {
   "codemirror_mode": {
    "name": "ipython",
    "version": 3
   },
   "file_extension": ".py",
   "mimetype": "text/x-python",
   "name": "python",
   "nbconvert_exporter": "python",
   "pygments_lexer": "ipython3",
   "version": "3.9.12"
  }
 },
 "nbformat": 4,
 "nbformat_minor": 5
}
